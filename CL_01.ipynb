{
  "nbformat": 4,
  "nbformat_minor": 0,
  "metadata": {
    "colab": {
      "provenance": []
    },
    "kernelspec": {
      "name": "python3",
      "display_name": "Python 3"
    },
    "language_info": {
      "name": "python"
    }
  },
  "cells": [
    {
      "cell_type": "code",
      "execution_count": 1,
      "metadata": {
        "id": "GAY2gw9pDJ2-"
      },
      "outputs": [],
      "source": [
        "import numpy as np\n",
        "\n",
        "def fuzzy_union(A, B):\n",
        "    return np.maximum(A, B)"
      ]
    },
    {
      "cell_type": "code",
      "source": [
        "# Function to perform Intersection operation on fuzzy sets\n",
        "def fuzzy_intersection(A, B):\n",
        "    return np.minimum(A, B)"
      ],
      "metadata": {
        "id": "-es7cU1hDVcS"
      },
      "execution_count": 2,
      "outputs": []
    },
    {
      "cell_type": "code",
      "source": [
        "# Function to perform Complement operation on a fuzzy set\n",
        "def fuzzy_complement(A):\n",
        "    return 1 - A\n",
        ""
      ],
      "metadata": {
        "id": "yskIA4yYDX58"
      },
      "execution_count": 3,
      "outputs": []
    },
    {
      "cell_type": "code",
      "source": [
        "# Function to perform Difference operation on fuzzy sets\n",
        "def fuzzy_difference(A, B):\n",
        "    return np.maximum(A, 1 - B)\n",
        "# Function to create fuzzy relation by Cartesian product of two fuzzy sets\n",
        "def cartesian_product(A, B):\n",
        "    return np.outer(A, B)"
      ],
      "metadata": {
        "id": "50WSTKjQDarx"
      },
      "execution_count": 4,
      "outputs": []
    },
    {
      "cell_type": "code",
      "source": [
        "# Function to perform Max-Min composition on two fuzzy relations\n",
        "def max_min_composition(R, S):\n",
        "    return np.max(np.minimum.outer(R, S), axis=1)\n",
        "# Example usage\n",
        "A = np.array([0.2, 0.6, 0.9, 0.8])  # Fuzzy set A\n",
        "B = np.array([0.3, 0.5, 0.7, 0.9])  # Fuzzy set B"
      ],
      "metadata": {
        "id": "QytpyOhQDgtd"
      },
      "execution_count": 11,
      "outputs": []
    },
    {
      "cell_type": "code",
      "source": [
        "# Operations on fuzzy sets\n",
        "union_result = fuzzy_union(A, B)\n",
        "intersection_result = fuzzy_intersection(A, B)\n",
        "complement_A = fuzzy_complement(A)\n",
        "difference_result = fuzzy_difference(A, B)\n",
        "print(\"Union:\", union_result)\n",
        "print(\"Intersection:\", intersection_result)\n",
        "print(\"Complement of A:\", complement_A)\n",
        "print(\"Difference:\", difference_result)"
      ],
      "metadata": {
        "colab": {
          "base_uri": "https://localhost:8080/"
        },
        "id": "a4pMKmV-DlGB",
        "outputId": "6dfd4719-7a00-4013-f5cc-d913c9dce6b3"
      },
      "execution_count": 12,
      "outputs": [
        {
          "output_type": "stream",
          "name": "stdout",
          "text": [
            "Union: [0.3 0.6 0.9 0.9]\n",
            "Intersection: [0.2 0.5 0.7 0.8]\n",
            "Complement of A: [0.8 0.4 0.1 0.2]\n",
            "Difference: [0.7 0.6 0.9 0.8]\n"
          ]
        }
      ]
    },
    {
      "cell_type": "code",
      "source": [
        "# Fuzzy relations\n",
        "R = np.array([0.2, 0.5, 0.4])  # Fuzzy relation R\n",
        "S = np.array([0.6, 0.3, 0.7])  # Fuzzy relation S\n",
        "# Cartesian product of fuzzy relations\n",
        "cartesian_result = cartesian_product(R, S)"
      ],
      "metadata": {
        "id": "AqDpFHptDpiI"
      },
      "execution_count": 7,
      "outputs": []
    },
    {
      "cell_type": "code",
      "source": [
        "# Max-Min composition of fuzzy relations\n",
        "composition_result = max_min_composition(R, S)\n",
        "print(\"Cartesian product of R and S:\")\n",
        "print(cartesian_result)"
      ],
      "metadata": {
        "colab": {
          "base_uri": "https://localhost:8080/"
        },
        "id": "brcxPzuVDsWe",
        "outputId": "8a930ffc-4cad-4325-e4b0-8be40c3a5140"
      },
      "execution_count": 8,
      "outputs": [
        {
          "output_type": "stream",
          "name": "stdout",
          "text": [
            "Cartesian product of R and S:\n",
            "[[0.12 0.06 0.14]\n",
            " [0.3  0.15 0.35]\n",
            " [0.24 0.12 0.28]]\n"
          ]
        }
      ]
    },
    {
      "cell_type": "code",
      "source": [
        "print(\"Max-Min composition of R and S:\")\n",
        "print(composition_result)"
      ],
      "metadata": {
        "colab": {
          "base_uri": "https://localhost:8080/"
        },
        "id": "R7DQQWLEDu76",
        "outputId": "cfa7696d-bbdf-42bc-8f4b-5164d0d0bba5"
      },
      "execution_count": 9,
      "outputs": [
        {
          "output_type": "stream",
          "name": "stdout",
          "text": [
            "Max-Min composition of R and S:\n",
            "[0.2 0.5 0.4]\n"
          ]
        }
      ]
    },
    {
      "cell_type": "code",
      "source": [],
      "metadata": {
        "id": "7e0FkQ4SD-Dn"
      },
      "execution_count": null,
      "outputs": []
    }
  ]
}
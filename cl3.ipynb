{
  "nbformat": 4,
  "nbformat_minor": 0,
  "metadata": {
    "colab": {
      "provenance": []
    },
    "kernelspec": {
      "name": "python3",
      "display_name": "Python 3"
    },
    "language_info": {
      "name": "python"
    }
  },
  "cells": [
    {
      "cell_type": "code",
      "source": [
        "import numpy as np\n",
        "\n",
        "# Step 1: Generate Dummy Data\n",
        "def generate_dummy_data(samples=100, features=10):\n",
        "    data = np.random.rand(samples, features)\n",
        "    labels = np.random.randint(0, 2, size=samples)\n",
        "    return data, labels\n",
        "\n",
        "# Step 2: Create Detectors (randomly select few data points)\n",
        "def create_detectors(train_data, num_detectors):\n",
        "    indices = np.random.choice(len(train_data), num_detectors, replace=False)\n",
        "    detectors = train_data[indices]\n",
        "    return detectors\n",
        "\n",
        "# Step 3: Hypermutation (small random changes)\n",
        "def hypermutate(detector, mutation_rate=0.1):\n",
        "    mutation = np.random.normal(0, mutation_rate, size=detector.shape)\n",
        "    mutated_detector = detector + mutation\n",
        "    # Keep values between 0 and 1\n",
        "    mutated_detector = np.clip(mutated_detector, 0, 1)\n",
        "    return mutated_detector\n",
        "\n",
        "# Step 4: Predict Function\n",
        "def predict(detectors, test_data):\n",
        "    predictions = []\n",
        "    for sample in test_data:\n",
        "        distances = np.linalg.norm(detectors - sample, axis=1)\n",
        "        nearest_index = np.argmin(distances)\n",
        "        # Here prediction is based on which detector is nearest\n",
        "        predictions.append(nearest_index % 2)  # Just simulate 0 or 1 based on index\n",
        "    return np.array(predictions)\n",
        "\n",
        "# Step 5: Accuracy Checker\n",
        "def calculate_accuracy(predictions, true_labels):\n",
        "    return np.mean(predictions == true_labels)\n",
        "\n",
        "# Step 6: Main function to run AIRS\n",
        "def run_simple_airs():\n",
        "    # Generate data\n",
        "    data, labels = generate_dummy_data(samples=100, features=10)\n",
        "\n",
        "    # Split data\n",
        "    split_ratio = 0.8\n",
        "    split_index = int(split_ratio * len(data))\n",
        "    train_data, test_data = data[:split_index], data[split_index:]\n",
        "    train_labels, test_labels = labels[:split_index], labels[split_index:]\n",
        "\n",
        "    # Create detectors\n",
        "    detectors = create_detectors(train_data, num_detectors=10)\n",
        "\n",
        "    # Apply hypermutation to detectors\n",
        "    detectors = np.array([hypermutate(detector) for detector in detectors])\n",
        "\n",
        "    # Predict\n",
        "    predictions = predict(detectors, test_data)\n",
        "\n",
        "    # Accuracy\n",
        "    accuracy = calculate_accuracy(predictions, test_labels)\n",
        "    print(f\"Accuracy: {accuracy}\")\n",
        "\n",
        "# Run the AIRS\n",
        "run_simple_airs()\n"
      ],
      "metadata": {
        "colab": {
          "base_uri": "https://localhost:8080/"
        },
        "id": "Jx0GfaaM5WHe",
        "outputId": "6af1a871-21e7-4266-838b-f30b0a810d26"
      },
      "execution_count": 7,
      "outputs": [
        {
          "output_type": "stream",
          "name": "stdout",
          "text": [
            "Accuracy: 0.3\n"
          ]
        }
      ]
    },
    {
      "cell_type": "code",
      "source": [],
      "metadata": {
        "id": "-D_H0F-JB-ro"
      },
      "execution_count": null,
      "outputs": []
    }
  ]
}